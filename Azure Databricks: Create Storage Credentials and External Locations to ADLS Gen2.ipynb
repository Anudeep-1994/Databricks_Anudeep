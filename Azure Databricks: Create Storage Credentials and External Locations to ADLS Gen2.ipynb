{
 "cells": [
  {
   "cell_type": "markdown",
   "metadata": {
    "application/vnd.databricks.v1+cell": {
     "cellMetadata": {},
     "inputWidgets": {},
     "nuid": "69c37d74-7938-49eb-bb7d-ad1ad3257a45",
     "showTitle": false,
     "tableResultSettingsMap": {},
     "title": ""
    }
   },
   "source": [
    "## how to create an external storage credentials in databrciks\n",
    "\n",
    "step1 : cerate an access connector in adf\n",
    "       copy the connector source id\n",
    "\n",
    "\n",
    "step2 : Go to your storage account,click on my access click on plus icon\n",
    "\n",
    "\n",
    "        add a role/assignment\n",
    "\n",
    "        under jobfunction --> select storage blob contributor / under click on select member account \n",
    "\n",
    "        now rightside a tab open in which there u need to select the access connector you created.\n",
    "\n",
    "\n",
    "step 3: Go databricks click on catalog click on + icon\n",
    "\n",
    "\n",
    "        select or click on new credentials\n",
    "\n",
    "        Select the storage credentials and choose azure managed identity \n",
    "\n",
    "        give the credential name which is your stroage account name\n",
    "\n",
    "        under access connector ID give the connector ID you created\n",
    "\n",
    "        click on create and continue\n",
    "\n",
    "\n",
    "\n",
    "Step 4:  Click on + icon click on create exteranl loaction\n",
    "\n",
    "         \n",
    "          provide exteranl location name\n",
    "\n",
    "          under url give the path as abfss://containername//storagename/dfs.core.windows.net\n",
    "\n",
    "          under storage credentials ---> select the select the first one poping up which created in step2 \n",
    "\n",
    "          click on continue\n",
    "\n",
    "\n",
    "                         \n"
   ]
  }
 ],
 "metadata": {
  "application/vnd.databricks.v1+notebook": {
   "computePreferences": null,
   "dashboards": [],
   "environmentMetadata": {
    "base_environment": "",
    "environment_version": "2"
   },
   "inputWidgetPreferences": null,
   "language": "python",
   "notebookMetadata": {
    "pythonIndentUnit": 4
   },
   "notebookName": "Azure Databricks: Create Storage Credentials and External Locations to ADLS Gen2",
   "widgets": {}
  },
  "language_info": {
   "name": "python"
  }
 },
 "nbformat": 4,
 "nbformat_minor": 0
}
