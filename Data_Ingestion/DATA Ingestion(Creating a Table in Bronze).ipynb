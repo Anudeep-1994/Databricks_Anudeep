{
 "cells": [
  {
   "cell_type": "markdown",
   "metadata": {
    "application/vnd.databricks.v1+cell": {
     "cellMetadata": {},
     "inputWidgets": {},
     "nuid": "e14faca2-4bcc-40d2-b151-0f312060b280",
     "showTitle": false,
     "tableResultSettingsMap": {},
     "title": ""
    }
   },
   "source": [
    "Ways of creating a table in Databricks \n",
    "1. UI - Upload a file in the volume and from there you can create a table\n",
    "2. Pyspark - By creating a dataframe using the file path we can create a table\n",
    "3. Sql - by read the the file path using ctas --> creation of table using a sql select query "
   ]
  },
  {
   "cell_type": "code",
   "execution_count": 0,
   "metadata": {
    "application/vnd.databricks.v1+cell": {
     "cellMetadata": {
      "byteLimit": 2048000,
      "implicitDf": true,
      "rowLimit": 10000
     },
     "inputWidgets": {},
     "nuid": "420ef6f3-67c4-4293-8a5c-187360889775",
     "showTitle": true,
     "tableResultSettingsMap": {},
     "title": "Volume creation"
    }
   },
   "outputs": [],
   "source": [
    "%sql\n",
    "create volume if not exists datamaster.bronze.raw_csv_files;"
   ]
  },
  {
   "cell_type": "code",
   "execution_count": 0,
   "metadata": {
    "application/vnd.databricks.v1+cell": {
     "cellMetadata": {
      "byteLimit": 2048000,
      "rowLimit": 10000
     },
     "inputWidgets": {},
     "nuid": "e227d5f1-5b74-4e51-a5dc-9f44f8e95a08",
     "showTitle": false,
     "tableResultSettingsMap": {},
     "title": ""
    }
   },
   "outputs": [],
   "source": [
    "#%pip install PyMuPDF\n",
    "#dbutils.library.restartPython()\n",
    "\n",
    "pdf_path = \"/Volumes/datamaster/bronze/pdf_files/ADEI.pdf\"\n",
    "\n",
    "import fitz\n",
    "doc = fitz.open(pdf_path)\n",
    "\n",
    "for page_num in range(len(doc)):\n",
    "    page = doc.load_page(page_num)\n",
    "    text = page.get_text()\n",
    "    print(f\"Page {page_num + 1}:\\n{text}\\n\")\n",
    "\n"
   ]
  },
  {
   "cell_type": "code",
   "execution_count": 0,
   "metadata": {
    "application/vnd.databricks.v1+cell": {
     "cellMetadata": {},
     "inputWidgets": {},
     "nuid": "4ecb346b-6129-459e-ab93-59d75619d0b7",
     "showTitle": false,
     "tableResultSettingsMap": {},
     "title": ""
    }
   },
   "outputs": [],
   "source": []
  },
  {
   "cell_type": "code",
   "execution_count": 0,
   "metadata": {
    "application/vnd.databricks.v1+cell": {
     "cellMetadata": {
      "byteLimit": 2048000,
      "implicitDf": true,
      "rowLimit": 10000
     },
     "inputWidgets": {},
     "nuid": "3f0ea985-15d0-42ae-9aa3-69ca837b1cf3",
     "showTitle": false,
     "tableResultSettingsMap": {},
     "title": ""
    }
   },
   "outputs": [],
   "source": [
    "%sql\n",
    "create volume if not exists datamaster.bronze.pdf_files"
   ]
  },
  {
   "cell_type": "code",
   "execution_count": 0,
   "metadata": {
    "application/vnd.databricks.v1+cell": {
     "cellMetadata": {},
     "inputWidgets": {},
     "nuid": "ac446213-46a0-45ff-bf82-f345ac41a0d3",
     "showTitle": true,
     "tableResultSettingsMap": {},
     "title": "Path of the file (volume)"
    }
   },
   "outputs": [],
   "source": [
    "/Volumes/datamaster/bronze/raw_csv_files/AdventureWorks_Territories.csv"
   ]
  },
  {
   "cell_type": "code",
   "execution_count": 0,
   "metadata": {
    "application/vnd.databricks.v1+cell": {
     "cellMetadata": {
      "byteLimit": 2048000,
      "rowLimit": 10000
     },
     "inputWidgets": {},
     "nuid": "57e01de7-d786-4e05-ab59-e5f612e89106",
     "showTitle": true,
     "tableResultSettingsMap": {},
     "title": "Table creation using Pyspark"
    }
   },
   "outputs": [],
   "source": [
    "df = spark.read.format(\"csv\").option(\"header\", \"true\").option(\"inferSchema\", \"true\").load(\"/Volumes/datamaster/bronze/raw_csv_files/AdventureWorks_Territories.csv\")\n",
    "df.write.saveAsTable(\"datamaster.bronze.AdventureWorks_Territories_PySpark\")"
   ]
  },
  {
   "cell_type": "markdown",
   "metadata": {
    "application/vnd.databricks.v1+cell": {
     "cellMetadata": {},
     "inputWidgets": {},
     "nuid": "30f08214-4186-4a5d-b836-a0e8ebd27b89",
     "showTitle": false,
     "tableResultSettingsMap": {},
     "title": ""
    }
   },
   "source": [
    "## Creating a table using CTAS --> creating of a table using select query --> SQL Style"
   ]
  },
  {
   "cell_type": "code",
   "execution_count": 0,
   "metadata": {
    "application/vnd.databricks.v1+cell": {
     "cellMetadata": {
      "byteLimit": 2048000,
      "implicitDf": true,
      "rowLimit": 10000
     },
     "inputWidgets": {},
     "nuid": "1400a96e-cc1a-445f-9713-0abedbeeb59a",
     "showTitle": false,
     "tableResultSettingsMap": {},
     "title": ""
    }
   },
   "outputs": [],
   "source": [
    "%sql\n",
    "CREATE TABLE datamaster.bronze.AdventureWorks_Territories_sql as\n",
    "(SELECT *,current_timestamp AS ingestion_date FROM read_files('/Volumes/datamaster/bronze/raw_csv_files/AdventureWorks_Territories.csv',\n",
    "format => 'csv'))"
   ]
  },
  {
   "cell_type": "code",
   "execution_count": 0,
   "metadata": {
    "application/vnd.databricks.v1+cell": {
     "cellMetadata": {
      "byteLimit": 2048000,
      "implicitDf": true,
      "rowLimit": 10000
     },
     "inputWidgets": {},
     "nuid": "46f070fa-fe13-4865-aea9-93476190a02b",
     "showTitle": false,
     "tableResultSettingsMap": {},
     "title": ""
    }
   },
   "outputs": [],
   "source": [
    "%sql\n",
    "drop schema if exists datamaster.silver;\n",
    "--drop view if exists datamaster.silver.AdventureWorks_Territories_View;\n"
   ]
  }
 ],
 "metadata": {
  "application/vnd.databricks.v1+notebook": {
   "computePreferences": null,
   "dashboards": [],
   "environmentMetadata": {
    "base_environment": "",
    "environment_version": "2"
   },
   "inputWidgetPreferences": null,
   "language": "python",
   "notebookMetadata": {
    "mostRecentlyExecutedCommandWithImplicitDF": {
     "commandId": 8770504493240742,
     "dataframes": [
      "_sqldf"
     ]
    },
    "pythonIndentUnit": 4
   },
   "notebookName": "DATA Ingestion(Creating a Table in Bronze)",
   "widgets": {}
  },
  "language_info": {
   "name": "python"
  }
 },
 "nbformat": 4,
 "nbformat_minor": 0
}
