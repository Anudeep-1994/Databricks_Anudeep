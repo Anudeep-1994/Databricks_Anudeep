{
 "cells": [
  {
   "cell_type": "code",
   "execution_count": 0,
   "metadata": {
    "application/vnd.databricks.v1+cell": {
     "cellMetadata": {},
     "inputWidgets": {},
     "nuid": "8607e6e4-2130-4990-a8e6-00a62cd2dfee",
     "showTitle": true,
     "tableResultSettingsMap": {},
     "title": "SQL BEGINNER LEVEL QUESTIONS"
    }
   },
   "outputs": [],
   "source": [
    ". What is SQL?\n",
    "2. What is a Database?\n",
    "3. What are the types of SQL commands?\n",
    "4. What is Primary Key?\n",
    "5. What is Foreign Key?\n",
    "6. What is UNIQUE Key?\n",
    "7. What is the difference between Primary Key and UNIQUE Key?\n",
    "8. What is NOT NULL constraint?\n",
    "9. What is Default Constraint?\n",
    "10. What is the difference between DELETE, TRUNCATE, and DROP?\n",
    "11. What is the difference between WHERE and HAVING?\n",
    "12. What are Joins in SQL?\n",
    "13. What is INNER JOIN?\n",
    "14. What is LEFT JOIN?\n",
    "15. What is RIGHT JOIN?\n",
    "16. What is FULL JOIN?\n",
    "17. What is Self Join?\n",
    "18. What is Cross Join?\n",
    "19. What is Union and Union All?\n",
    "20. What is the difference between UNION and UNION ALL?\n",
    "21. What is Normalization?\n",
    "22. What is Denormalization?\n",
    "23. What is the difference between CHAR and VARCHAR?\n",
    "24. What is the difference between SQL and MySQL?\n",
    "25. What is Auto Increment in SQL?"
   ]
  },
  {
   "cell_type": "code",
   "execution_count": 0,
   "metadata": {
    "application/vnd.databricks.v1+cell": {
     "cellMetadata": {},
     "inputWidgets": {},
     "nuid": "1aea45d3-4d7c-4bcb-b7f6-bd51e414a2ce",
     "showTitle": true,
     "tableResultSettingsMap": {},
     "title": "SQL INTERMEDIATE LEVEL QUESTIONS"
    }
   },
   "outputs": [],
   "source": [
    "26. What is Subquery?\n",
    "27. What is Nested Query?\n",
    "28. What is Correlated Subquery?\n",
    "29. What is Group By in SQL?\n",
    "30. What is the difference between Group By and Order By?\n",
    "31. What is the use of LIMIT in SQL?\n",
    "32. How to find the Second Highest Salary in SQL?\n",
    "33. How to find Duplicate Records in a table?\n",
    "34. What is CTE (Common Table Expression)?\n",
    "35. What is Temporary Table in SQL?\n",
    "36. What is Window Function in SQL?\n",
    "37. What is the difference between ROW_NUMBER(), RANK(), and\n",
    "DENSE_RANK()?\n",
    "38. What is CASE Statement in SQL?\n",
    "39. What is COALESCE in SQL?\n",
    "40. What is NVL Function in SQL?\n",
    "41. What is Indexing in SQL?\n",
    "42. What is Clustered Index?\n",
    "43. What is Non-Clustered Index?\n",
    "44. What is the difference between Clustered and Non-Clustered Index?\n",
    "45. What is View in SQL?\n",
    "46. What is the difference between View and Table?\n",
    "47. What is Stored Procedure?\n",
    "48. What is the difference between Function and Stored Procedure?\n",
    "49. What is Trigger in SQL?\n",
    "50. What is Cursor in SQL?"
   ]
  }
 ],
 "metadata": {
  "application/vnd.databricks.v1+notebook": {
   "computePreferences": null,
   "dashboards": [],
   "environmentMetadata": {
    "base_environment": "",
    "environment_version": "2"
   },
   "inputWidgetPreferences": null,
   "language": "python",
   "notebookMetadata": {
    "pythonIndentUnit": 4
   },
   "notebookName": "SQL-Questions",
   "widgets": {}
  },
  "language_info": {
   "name": "python"
  }
 },
 "nbformat": 4,
 "nbformat_minor": 0
}
